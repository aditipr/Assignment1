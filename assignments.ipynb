{
 "cells": [
  {
   "cell_type": "code",
   "execution_count": 2,
   "metadata": {},
   "outputs": [
    {
     "name": "stdout",
     "output_type": "stream",
     "text": [
      "aditi\n"
     ]
    }
   ],
   "source": [
    "def user_name(s):\n",
    "    p=''\n",
    "    for i in s:\n",
    "        if i=='@':\n",
    "            break\n",
    "        else:\n",
    "            p=p+i\n",
    "    return p\n",
    "u=user_name('aditi@google.com')  \n",
    "print(u)"
   ]
  },
  {
   "cell_type": "code",
   "execution_count": null,
   "metadata": {},
   "outputs": [],
   "source": []
  },
  {
   "cell_type": "code",
   "execution_count": 14,
   "metadata": {},
   "outputs": [
    {
     "name": "stdout",
     "output_type": "stream",
     "text": [
      "incredible\n",
      "in...in...incredible?\n"
     ]
    }
   ],
   "source": [
    "#Write a function that stutters a word as if someone is struggling to read it. The\n",
    "#first two letters are repeated twice with an ellipsis ... and space after each, and then the\n",
    "#word is pronounced with a question mark ?.\n",
    "#stutter('incredible') ➞ 'in... in... incredible?'\n",
    "def stutter(word):\n",
    "    s=''\n",
    "    s=word[0:2]+'...'+word[0:2]+'...'+word+'?'\n",
    "    return s\n",
    "word=input()\n",
    "k=stutter(word)\n",
    "print(k)"
   ]
  },
  {
   "cell_type": "code",
   "execution_count": 19,
   "metadata": {},
   "outputs": [
    {
     "name": "stdout",
     "output_type": "stream",
     "text": [
      "50\n",
      "2864.8\n"
     ]
    }
   ],
   "source": [
    "#2.Create a function that takes an angle in radians and returns the corresponding\n",
    "#angle in degrees rounded to one decimal place.\n",
    "def radian_to_degree(rad):\n",
    "    one_rad=57.2958\n",
    "    val=one_rad*rad\n",
    "    value=round(val,1)\n",
    "    return value\n",
    "rad=int(input())\n",
    "k=radian_to_degree(rad)\n",
    "print(k)   "
   ]
  },
  {
   "cell_type": "code",
   "execution_count": 35,
   "metadata": {},
   "outputs": [
    {
     "name": "stdout",
     "output_type": "stream",
     "text": [
      "14\n",
      "True\n"
     ]
    }
   ],
   "source": [
    "'''Question 3. In this challenge, establish if a given integer num is a Curzon number. If 1 plus\n",
    "2 elevated to num is exactly divisible by 1 plus 2 multiplied by num, then num is a Curzon\n",
    "number.\n",
    "Given a non-negative integer num, implement a function that returns True if num is a Curzon\n",
    "number, or False otherwise.'''\n",
    "def carzon(num):\n",
    "    if (2**num+1)%(2*num+1)==0:\n",
    "        return True\n",
    "    else:\n",
    "        return False\n",
    "num=int(input())\n",
    "print(carzon(num))"
   ]
  },
  {
   "cell_type": "code",
   "execution_count": 47,
   "metadata": {},
   "outputs": [
    {
     "name": "stdout",
     "output_type": "stream",
     "text": [
      "10\n",
      "[1, 0, 1, 0]\n",
      "1010"
     ]
    }
   ],
   "source": [
    "'''Create a function that returns a base-2 (binary) representation of a base-10\n",
    "(decimal) string number. To convert is simple: ((2) means base-2 and (10) means base-10)'''\n",
    "i=int(input())\n",
    "l=[]\n",
    "while(i>0):\n",
    "    d=i%2\n",
    "    l.append(d)\n",
    "    i=i//2\n",
    "l.reverse()\n",
    "print(l)\n",
    "for j in l:\n",
    "    print(j,end='')"
   ]
  },
  {
   "cell_type": "code",
   "execution_count": 49,
   "metadata": {},
   "outputs": [
    {
     "name": "stdout",
     "output_type": "stream",
     "text": [
      "0\n",
      "30\n"
     ]
    }
   ],
   "source": [
    "'''Question1. Create a function that takes three arguments a, b, c and returns the sum of the\n",
    "numbers that are evenly divided by c from the range a, b inclusive.'''\n",
    "def sum(a,b,c):\n",
    "    s=0\n",
    "    for i in range(a,b+1):\n",
    "        if i%c==0:\n",
    "            s+=i\n",
    "    return s\n",
    "print(sum(1,10,20))\n",
    "print(sum(1,10,2))\n"
   ]
  },
  {
   "cell_type": "code",
   "execution_count": 52,
   "metadata": {},
   "outputs": [
    {
     "name": "stdout",
     "output_type": "stream",
     "text": [
      "True\n"
     ]
    }
   ],
   "source": [
    "'''Create a function that returns True if a given inequality expression is correct and\n",
    "False otherwise.'''\n",
    "def inequation(eqn):\n",
    "    if eqn:\n",
    "        return True\n",
    "    else:\n",
    "        return False\n",
    "print(inequation(1<2<11>9)) "
   ]
  },
  {
   "cell_type": "code",
   "execution_count": 9,
   "metadata": {},
   "outputs": [
    {
     "name": "stdout",
     "output_type": "stream",
     "text": [
      "Enter number:5\n",
      "Factorial: 120\n"
     ]
    }
   ],
   "source": [
    "'''Question4. Write a function that calculates the factorial of a number recursively.'''\n",
    "def factorial(n):\n",
    "    if (n<=1):\n",
    "        return 1\n",
    "    while(n>1):\n",
    "        return (n*factorial(n-1))\n",
    "factorial(5)"
   ]
  },
  {
   "cell_type": "code",
   "execution_count": 29,
   "metadata": {},
   "outputs": [
    {
     "name": "stdout",
     "output_type": "stream",
     "text": [
      "5\n"
     ]
    }
   ],
   "source": [
    "'''Hamming distance is the number of characters that differ between two strings.'''\n",
    "def hamming(a,b):\n",
    "    c=0\n",
    "    for i in range(len(a)):\n",
    "        if a[i]!=b[i]:\n",
    "            c+=1\n",
    "    return c\n",
    "print(hamming('abcde','bcdef'))      "
   ]
  },
  {
   "cell_type": "code",
   "execution_count": 74,
   "metadata": {},
   "outputs": [
    {
     "name": "stdout",
     "output_type": "stream",
     "text": [
      "[0, 1729]\n"
     ]
    }
   ],
   "source": [
    "'''Create a function that takes a list of non-negative integers and strings and return a new list\n",
    "without the strings.'''\n",
    "\n",
    "lis=['A',0,'Edabit', 1729,'Python','1729']\n",
    "l=[]\n",
    "for i in lis:\n",
    "    l.append(i)\n",
    "for i in l:\n",
    "    if type(i)==str:\n",
    "        lis.remove(i)\n",
    "print(lis)"
   ]
  },
  {
   "cell_type": "code",
   "execution_count": 45,
   "metadata": {},
   "outputs": [
    {
     "name": "stdout",
     "output_type": "stream",
     "text": [
      "AYIRP itiDa\n"
     ]
    }
   ],
   "source": [
    "'''The 'Reverser' takes a string as input and returns that string in reverse order, with the\n",
    "opposite case.'''\n",
    "a='AdITI priya'\n",
    "s=''\n",
    "for i in a[::-1]:\n",
    "    if i.isupper():\n",
    "        j=i.lower()\n",
    "        s+=j\n",
    "    else:\n",
    "        j=i.upper()\n",
    "        s+=j\n",
    "print(s)"
   ]
  },
  {
   "cell_type": "code",
   "execution_count": 51,
   "metadata": {},
   "outputs": [
    {
     "name": "stdout",
     "output_type": "stream",
     "text": [
      "[1] [2, 3, 4, 5, 6] [6]\n"
     ]
    }
   ],
   "source": [
    "'''lst = [1, 2, 3, 4, 5, 6]\n",
    "first = lst[0]\n",
    "middle = lst[1:-1]\n",
    "last = lst[-1]\n",
    "print(first) ➞ outputs 1\n",
    "print(middle) ➞ outputs [2, 3, 4, 5]\n",
    "print(last) ➞ outputs 6'''\n",
    "lst = [1, 2, 3, 4, 5, 6]\n",
    "v=len(lst)\n",
    "l1=[]\n",
    "l2=[]\n",
    "l3=[]\n",
    "for i in range(1,v):\n",
    "    l2.append(lst[i])\n",
    "l1.append(lst[0])\n",
    "l3.append(lst[-1])\n",
    "print(l1,l2,l3)\n",
    "    \n"
   ]
  },
  {
   "cell_type": "code",
   "execution_count": 53,
   "metadata": {},
   "outputs": [
    {
     "name": "stdout",
     "output_type": "stream",
     "text": [
      "[2, 3, 4, 1, 1, 1, 1]\n"
     ]
    }
   ],
   "source": [
    "'''Write a function that moves all elements of one type to the end of the list.'''\n",
    "l1=[]\n",
    "l2=[]\n",
    "def move_to_end(li,x):\n",
    "    for i in li:\n",
    "        if i==x:\n",
    "            l1.append(i)\n",
    "        else:\n",
    "            l2.append(i)\n",
    "    return l2+l1\n",
    "print(move_to_end([1,2,1,1,3,4,1],1))        "
   ]
  },
  {
   "cell_type": "code",
   "execution_count": 64,
   "metadata": {},
   "outputs": [
    {
     "name": "stdout",
     "output_type": "stream",
     "text": [
      "hheelllloo  wwoorrlldd!!\n"
     ]
    }
   ],
   "source": [
    "'''Create a function that takes a string and returns a string in which each character is repeated\n",
    "once.'''\n",
    "def repeat(st):\n",
    "    s=''\n",
    "    for i in st:\n",
    "        s=s+i+i\n",
    "    return s\n",
    "print(repeat('hello world!'))"
   ]
  },
  {
   "cell_type": "code",
   "execution_count": 67,
   "metadata": {},
   "outputs": [
    {
     "name": "stdout",
     "output_type": "stream",
     "text": [
      "False\n",
      "boolean expected\n"
     ]
    }
   ],
   "source": [
    "'''Create a function that reverses a boolean value and returns the string &quot;boolean expected&quot;\n",
    "if another variable type is given.'''\n",
    "def boolean(b):\n",
    "    if b==True:\n",
    "        return False\n",
    "    elif b==False:\n",
    "        return True\n",
    "    else:\n",
    "        return 'boolean expected'\n",
    "print(boolean(True))\n",
    "print(boolean(8))"
   ]
  },
  {
   "cell_type": "code",
   "execution_count": 71,
   "metadata": {},
   "outputs": [
    {
     "name": "stdout",
     "output_type": "stream",
     "text": [
      "[0, 1, 5, 7]\n"
     ]
    }
   ],
   "source": [
    "'''Create a function that takes a single string as argument and returns an ordered list containing\n",
    "the indices of all capital letters in the string.'''\n",
    "def ordered(string1):\n",
    "    order_lst=[]\n",
    "    for i in string1:\n",
    "        if i.isupper():\n",
    "            b=string1.index(i)\n",
    "            order_lst.append(b)\n",
    "    return order_lst \n",
    "print(ordered('ADitiPrIya'))"
   ]
  },
  {
   "cell_type": "code",
   "execution_count": 73,
   "metadata": {},
   "outputs": [
    {
     "name": "stdout",
     "output_type": "stream",
     "text": [
      "[0, 2, 4, 6, 8, 10, 12, 14, 16, 18]\n"
     ]
    }
   ],
   "source": [
    "'''Using list comprehensions, create a function that finds all even numbers from 1 to the given\n",
    "number.'''\n",
    "n=20\n",
    "s=[i for i in range(n) if i%2==0]\n",
    "print(s)"
   ]
  },
  {
   "cell_type": "code",
   "execution_count": 77,
   "metadata": {},
   "outputs": [
    {
     "name": "stdout",
     "output_type": "stream",
     "text": [
      "[1, 3, 5, 7, 9]\n",
      "[5, 5, 5, 5, 5]\n"
     ]
    }
   ],
   "source": [
    "'''Given a list of numbers, create a function which returns the list but with each element's\n",
    "index in the list added to itself. This means you add 0 to the number at index 0, add 1 to the\n",
    "number at index 1, etc...'''\n",
    "def add_index_to_val(l1):\n",
    "    l2=[]\n",
    "    for i in range(len(l1)):\n",
    "        s=i+l1[i]\n",
    "        l2.append(s)\n",
    "    return l2\n",
    "print(add_index_to_val([1,2,3,4,5]))\n",
    "print(add_index_to_val([5,4,3,2,1]))"
   ]
  },
  {
   "cell_type": "code",
   "execution_count": 83,
   "metadata": {},
   "outputs": [
    {
     "name": "stdout",
     "output_type": "stream",
     "text": [
      "5\n"
     ]
    }
   ],
   "source": [
    "'''Create a function that takes a list of numbers between 1 and 10 (excluding one number) and\n",
    "returns the missing number.'''\n",
    "def find_missing(l1):\n",
    "    for i in range(1,11):\n",
    "        if i in l1:\n",
    "            pass\n",
    "        else:\n",
    "            return i\n",
    "print(find_missing([1,2,3,4,6,7,8,9,10]))"
   ]
  },
  {
   "cell_type": "code",
   "execution_count": 90,
   "metadata": {},
   "outputs": [
    {
     "name": "stdout",
     "output_type": "stream",
     "text": [
      "23220\n"
     ]
    }
   ],
   "source": [
    "'''This Triangular Number Sequence is generated from a pattern of dots that form a triangle.\n",
    "The first 5 numbers of the sequence, or dots, are:\n",
    "1, 3, 6, 10, 15\n",
    "This means that the first triangle has just one dot, the second one has three dots, the third one\n",
    "has 6 dots and so on.\n",
    "Write a function that gives the number of dots with its corresponding triangle number of the\n",
    "sequence.'''\n",
    "def dots(n):\n",
    "    l=[0,1]\n",
    "    for i in range(2,n+1):\n",
    "        s=i+l[i-1]\n",
    "        l.append(s)\n",
    "    return l[-1]\n",
    "print(dots(215))\n",
    "        \n",
    "        "
   ]
  },
  {
   "cell_type": "code",
   "execution_count": 103,
   "metadata": {},
   "outputs": [
    {
     "name": "stdout",
     "output_type": "stream",
     "text": [
      "no list has been selected\n"
     ]
    }
   ],
   "source": [
    "'''Write a function that takes a list and a number as arguments. Add the number to the end of\n",
    "the list, then remove the first element of the list. The function should then return the updated\n",
    "list.'''\n",
    "def lis_manipulation(l1,n):\n",
    "    if len(l1)==0:\n",
    "        return 'no list has been selected'\n",
    "    else:\n",
    "        l1.remove(l1[0])\n",
    "        l1.append(n)\n",
    "        return l1\n",
    "print(lis_manipulation([], 6))"
   ]
  },
  {
   "cell_type": "code",
   "execution_count": 7,
   "metadata": {},
   "outputs": [
    {
     "name": "stdout",
     "output_type": "stream",
     "text": [
      "65700\n"
     ]
    }
   ],
   "source": [
    "'''Create the function that takes a list of dictionaries and returns the sum of people's budgets'''\n",
    "l1=[{ 'name': 'John', 'age': 21, 'budget': 23000 },\n",
    "{'name': 'Mary', 'age': 24, 'budget': 40000 } ,\n",
    "{ 'name': 'Johnny', 'age': 27, 'budget': 2700 }\n",
    "]\n",
    "s=0\n",
    "for i in l1:\n",
    "    for j,k in i.items():\n",
    "        if j=='budget':\n",
    "            s+=k\n",
    "print(s)\n",
    "        "
   ]
  },
  {
   "cell_type": "code",
   "execution_count": 12,
   "metadata": {},
   "outputs": [
    {
     "name": "stdout",
     "output_type": "stream",
     "text": [
      "[]\n"
     ]
    }
   ],
   "source": [
    "'''Create a function that takes three parameters where:\n",
    " x is the start of the range (inclusive).\n",
    " y is the end of the range (inclusive).\n",
    " n is the divisor to be checked against.'''\n",
    "def div(list1):\n",
    "    list2=[]\n",
    "    for i in range(list1[0],list1[1]+1):\n",
    "        if i%list1[2]==0:\n",
    "            list2.append(i)\n",
    "    return list2\n",
    "print(div([15,20,7]))           "
   ]
  },
  {
   "cell_type": "code",
   "execution_count": 14,
   "metadata": {},
   "outputs": [
    {
     "name": "stdout",
     "output_type": "stream",
     "text": [
      "0\n",
      "1\n",
      "2\n",
      "3\n",
      "True\n"
     ]
    }
   ],
   "source": [
    "'''Create a function that takes in two lists and returns True if the second list follows the first list\n",
    "by one element, and False otherwise. In other words, determine if the second list is the first\n",
    "list shifted to the right by 1.\n",
    "simon_says([1, 2, 3, 4, 5], [0, 1, 2, 3, 4]) ➞ True'''\n",
    "def simon_says(l1,l2):\n",
    "    if len(l1)==len(l2):\n",
    "        for i in range(len(l1)-1):\n",
    "            if l1[i]==l2[i+1]:\n",
    "                pass\n",
    "            else:\n",
    "                return false\n",
    "        return True\n",
    "print(simon_says([1, 2, 3, 4, 5], [0, 1, 2, 3, 4]))\n"
   ]
  },
  {
   "cell_type": "code",
   "execution_count": 20,
   "metadata": {},
   "outputs": [
    {
     "name": "stdout",
     "output_type": "stream",
     "text": [
      "ADS\n"
     ]
    }
   ],
   "source": [
    "'''A group of friends have decided to start a secret society. The name will be the first letter of\n",
    "each of their names, sorted in alphabetical order.'''\n",
    "def secret_society(names):\n",
    "    socient_name=''\n",
    "    for i in names:\n",
    "        socient_name=socient_name+i[0]\n",
    "    return socient_name\n",
    "print(secret_society(['Aditi','Dipti','Swati']))"
   ]
  },
  {
   "cell_type": "code",
   "execution_count": 37,
   "metadata": {},
   "outputs": [
    {
     "name": "stdout",
     "output_type": "stream",
     "text": [
      "False\n"
     ]
    }
   ],
   "source": [
    "'''An isogram is a word that has no duplicate letters. Create a function that takes a string and\n",
    "returns either True or False depending on whether or not it's an isogram'''\n",
    "def is_isogram(s1):\n",
    "    s=s1.upper()\n",
    "    for i in range(0,len(s)-2):\n",
    "        for j in range(i+1,len(s)):\n",
    "            if s[i]!=s[j]:\n",
    "                pass\n",
    "            else:\n",
    "                return False\n",
    "    return True\n",
    "print(is_isogram('consecutive'))"
   ]
  },
  {
   "cell_type": "code",
   "execution_count": 42,
   "metadata": {},
   "outputs": [
    {
     "name": "stdout",
     "output_type": "stream",
     "text": [
      "False\n"
     ]
    }
   ],
   "source": [
    "'''Create a function that takes a string and returns True or False, depending on whether the\n",
    "characters are in order or not.'''\n",
    "def order(s):\n",
    "    for i in range(len(s)-1):\n",
    "        for j in range(i+1,len(s)):\n",
    "            if s[i]<s[j]:\n",
    "                pass\n",
    "            else:\n",
    "                return False\n",
    "    return True\n",
    "print(order('edabit'))\n",
    "        "
   ]
  },
  {
   "cell_type": "code",
   "execution_count": 49,
   "metadata": {},
   "outputs": [
    {
     "name": "stdout",
     "output_type": "stream",
     "text": [
      "9221\n",
      "not symmetrical\n"
     ]
    }
   ],
   "source": [
    "'''Create a function that takes a number as an argument and returns True or False depending\n",
    "on whether the number is symmetrical or not. A number is symmetrical when it is the same as\n",
    "its reverse.'''\n",
    "def symmetrial(n):\n",
    "    k=''\n",
    "    s=str(n)\n",
    "    k+=s[::-1]\n",
    "    if k==s:\n",
    "        print('symmetrical')\n",
    "    else:\n",
    "        print('not symmetrical')\n",
    "symmetrial(1229)"
   ]
  },
  {
   "cell_type": "code",
   "execution_count": 58,
   "metadata": {},
   "outputs": [
    {
     "name": "stdout",
     "output_type": "stream",
     "text": [
      "-20\n"
     ]
    }
   ],
   "source": [
    "'''Given a string of numbers separated by a comma and space, return the product of the\n",
    "numbers.'''\n",
    "def multiply_nums(s):\n",
    "    l=(s.split(','))\n",
    "    product=1\n",
    "    for i in l:\n",
    "        product*=int(i)\n",
    "    print(product)    \n",
    "multiply_nums('10,-2')"
   ]
  },
  {
   "cell_type": "code",
   "execution_count": 70,
   "metadata": {},
   "outputs": [
    {
     "name": "stdout",
     "output_type": "stream",
     "text": [
      "9414\n",
      "<class 'int'>\n"
     ]
    }
   ],
   "source": [
    "'''Create a function that squares every digit of a number.'''\n",
    "def square_digits(n):\n",
    "    pr=''\n",
    "    s=str(n)\n",
    "    for i in s:\n",
    "        k=int(i)\n",
    "        k1=k*k\n",
    "        pr+=str(k1)\n",
    "        p=int(pr)\n",
    "    print(p)\n",
    "    print(type(p))\n",
    "square_digits(3212)"
   ]
  },
  {
   "cell_type": "code",
   "execution_count": 77,
   "metadata": {},
   "outputs": [
    {
     "name": "stdout",
     "output_type": "stream",
     "text": [
      "[3, 5, 5]\n"
     ]
    }
   ],
   "source": [
    "'''Create a function that sorts a list and removes all duplicate items from it.'''\n",
    "def setify(l1):\n",
    "    l2=[]\n",
    "    for i in l1:\n",
    "        l2.append(i)\n",
    "    for i in range(len(l1)-1):\n",
    "        for j in range(i+1,len(l1)):\n",
    "            if l1[i]==l1[j]:\n",
    "                l2.remove(i)\n",
    "    print(l2)\n",
    "setify([1, 3, 3, 5, 5])"
   ]
  },
  {
   "cell_type": "code",
   "execution_count": 3,
   "metadata": {},
   "outputs": [
    {
     "name": "stdout",
     "output_type": "stream",
     "text": [
      "15 5\n",
      "3\n"
     ]
    }
   ],
   "source": [
    "'''Create a function that returns the mean of all digits.'''\n",
    "def mean(n):\n",
    "    s=str(n)\n",
    "    l=len(s)\n",
    "    sum=0\n",
    "    for i in s:\n",
    "        sum+=int(i)\n",
    "    mean=sum//l\n",
    "    return mean\n",
    "print(mean(12345))        "
   ]
  },
  {
   "cell_type": "code",
   "execution_count": 7,
   "metadata": {},
   "outputs": [
    {
     "name": "stdout",
     "output_type": "stream",
     "text": [
      "[1, 2, 3, 40, 5, 6, 7, 80, 9, 10, 11, 120, 13, 14, 15, 160, 17, 18, 19, 200, 21, 22, 23, 240, 25]\n"
     ]
    }
   ],
   "source": [
    "'''Create a function that takes an integer and returns a list from 1 to the given number, where:\n",
    "1. If the number can be divided evenly by 4, amplify it by 10 (i.e. return 10 times the\n",
    "number).\n",
    "2. If the number cannot be divided evenly by 4, simply return the number.'''\n",
    "def amplify(n):\n",
    "    l=[]\n",
    "    for i in range(1,n+1):\n",
    "        if i%4==0:\n",
    "            l.append(i*10)\n",
    "        else:\n",
    "            l.append(i)\n",
    "    return l\n",
    "print(amplify(25))"
   ]
  },
  {
   "cell_type": "code",
   "execution_count": 11,
   "metadata": {},
   "outputs": [
    {
     "name": "stdout",
     "output_type": "stream",
     "text": [
      "[1, 2, 3, 40, 5, 6, 7, 80, 9, 10, 11, 120, 13, 14, 15, 160, 17, 18, 19, 200, 21, 22, 23, 240, 25]\n",
      "[1, 2, 3, 40, 5, 6, 7, 80, 9, 10, 11, 120, 13, 14, 15, 160, 17, 18, 19, 200, 21, 22, 23, 240, 25]\n"
     ]
    }
   ],
   "source": [
    "def amplify(n):\n",
    "    if n>=1:\n",
    "        l=[i*10 if i%4==0 else i for i in range(1,n+1)]\n",
    "    return l\n",
    "print(amplify(25))"
   ]
  },
  {
   "cell_type": "code",
   "execution_count": 19,
   "metadata": {},
   "outputs": [
    {
     "name": "stdout",
     "output_type": "stream",
     "text": [
      "1\n"
     ]
    }
   ],
   "source": [
    "'''Create a function that takes a list of numbers and return the number that's unique.'''\n",
    "def unique(l):\n",
    "    for i in range(len(l)-1):\n",
    "        for j in range(i+1,len(l)):\n",
    "            if l[i]!=l[j]:\n",
    "                if  l.count(l[i])>l.count(l[j]):\n",
    "                    return l[j]\n",
    "                else:\n",
    "                    return l[i]\n",
    "            else:\n",
    "                pass\n",
    "print(unique([0,0,0,1]))"
   ]
  },
  {
   "cell_type": "code",
   "execution_count": 32,
   "metadata": {},
   "outputs": [
    {
     "name": "stdout",
     "output_type": "stream",
     "text": [
      "[(5, 'aditi'), (7, 'aditipr'), (10, 'aditipriya')]\n",
      "['aditi', 'aditipr', 'aditipriya']\n"
     ]
    }
   ],
   "source": [
    "'''Create a function that takes a list of strings and return a list, sorted from shortest to longest.'''\n",
    "s=['aditi','aditipriya','aditipr']\n",
    "q=[]\n",
    "l={}\n",
    "for i in s:\n",
    "    k=0\n",
    "    k=len(i)\n",
    "    l[k]=i\n",
    "p=sorted(l.items())\n",
    "print(p)\n",
    "for i in p:\n",
    "    q.append(i[1])\n",
    "print(q)"
   ]
  },
  {
   "cell_type": "code",
   "execution_count": 37,
   "metadata": {},
   "outputs": [
    {
     "name": "stdout",
     "output_type": "stream",
     "text": [
      "False\n"
     ]
    }
   ],
   "source": [
    "'''Create a function that validates whether three given integers form a Pythagorean triplet. The\n",
    "sum of the squares of the two smallest integers must equal the square of the largest number to\n",
    "be validated.'''\n",
    "def pythagorean(a,b,c):\n",
    "    if a<b<c:\n",
    "        if c*c==a*a+b*b:\n",
    "            return True\n",
    "        else:\n",
    "            return False\n",
    "    elif a>b and a>c:\n",
    "        if a*a==c*c+b*b:\n",
    "            return True\n",
    "        else:\n",
    "            return False\n",
    "    else:\n",
    "        if b*b==c*c+b*b:\n",
    "            return True\n",
    "        else:\n",
    "            return False\n",
    "print(pythagorean(1,2,3))\n",
    "    "
   ]
  },
  {
   "cell_type": "code",
   "execution_count": 41,
   "metadata": {},
   "outputs": [
    {
     "name": "stdout",
     "output_type": "stream",
     "text": [
      "0\n"
     ]
    }
   ],
   "source": [
    "'''Create a function that takes three integer arguments (a, b, c) and returns the amount of\n",
    "integers which are of equal value.'''\n",
    "def count1(a,b,c):\n",
    "    if a==b:\n",
    "        if a==c:\n",
    "            return 3\n",
    "        else:\n",
    "            return 2\n",
    "    elif a==c:\n",
    "            return 2\n",
    "    else:\n",
    "        return 0\n",
    "print(count1(3,4,1))   "
   ]
  },
  {
   "cell_type": "code",
   "execution_count": 46,
   "metadata": {},
   "outputs": [
    {
     "name": "stdout",
     "output_type": "stream",
     "text": [
      "[('dislikes', 3), ('followers', 10), ('likes', 2)]\n"
     ]
    }
   ],
   "source": [
    "'''Write a function that converts a dictionary into a list of keys-values tuples.'''\n",
    "d={'likes': 2,'dislikes': 3,'followers': 10}\n",
    "def dict_to_list(d):\n",
    "    p=sorted(d.items())\n",
    "    return p\n",
    "print(dict_to_list(d))"
   ]
  },
  {
   "cell_type": "code",
   "execution_count": 58,
   "metadata": {},
   "outputs": [
    {
     "name": "stdout",
     "output_type": "stream",
     "text": [
      "{'p': 'P', 'q': 'Q', 'r': 'R', 's': 'S'}\n"
     ]
    }
   ],
   "source": [
    "'''Write a function that creates a dictionary with each (key, value) pair being the (lower case,\n",
    "upper case) versions of a letter, respectively.'''\n",
    "def mapping(l):\n",
    "    d={}\n",
    "    for i in l:\n",
    "        d[i]=i.upper()\n",
    "    return d\n",
    "print(mapping(['p','q','r','s']))"
   ]
  },
  {
   "cell_type": "code",
   "execution_count": 6,
   "metadata": {},
   "outputs": [
    {
     "data": {
      "text/plain": [
       "'upplus und bununus'"
      ]
     },
     "execution_count": 6,
     "metadata": {},
     "output_type": "execute_result"
    }
   ],
   "source": [
    "'''Write a function, that replaces all vowels in a string with a specified vowel.'''\n",
    "def vow_replace(s,p):\n",
    "    s1=''\n",
    "    for i in s:\n",
    "        if i in ('a','e','i','o','u'):\n",
    "            s1=s1+p\n",
    "        else:\n",
    "            s1+=i\n",
    "    return s1\n",
    "vow_replace('apples and bananas','u')"
   ]
  },
  {
   "cell_type": "code",
   "execution_count": 7,
   "metadata": {},
   "outputs": [
    {
     "name": "stdout",
     "output_type": "stream",
     "text": [
      "To Be oR NoT To Be!\n"
     ]
    }
   ],
   "source": [
    "'''Create a function that takes a string as input and capitalizes a letter if its ASCII code is even\n",
    "and returns its lower case version if its ASCII code is odd.'''\n",
    "def asciicode(st):\n",
    "    p=''\n",
    "    for i in st:\n",
    "        j=ord(i)\n",
    "        if j%2==0:\n",
    "            p+=i.upper()\n",
    "        else:\n",
    "            p+=i.lower()\n",
    "    return p\n",
    "print(asciicode('to be or not to be!'))        "
   ]
  },
  {
   "cell_type": "code",
   "execution_count": null,
   "metadata": {},
   "outputs": [],
   "source": []
  }
 ],
 "metadata": {
  "kernelspec": {
   "display_name": "Python 3",
   "language": "python",
   "name": "python3"
  },
  "language_info": {
   "codemirror_mode": {
    "name": "ipython",
    "version": 3
   },
   "file_extension": ".py",
   "mimetype": "text/x-python",
   "name": "python",
   "nbconvert_exporter": "python",
   "pygments_lexer": "ipython3",
   "version": "3.8.5"
  }
 },
 "nbformat": 4,
 "nbformat_minor": 4
}
